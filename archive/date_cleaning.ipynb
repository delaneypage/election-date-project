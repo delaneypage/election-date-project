{
 "cells": [
  {
   "cell_type": "markdown",
   "metadata": {},
   "source": [
    "### Election Date Project"
   ]
  },
  {
   "cell_type": "markdown",
   "metadata": {},
   "source": [
    "#### Generating General Election Dates"
   ]
  },
  {
   "cell_type": "code",
   "execution_count": 840,
   "metadata": {},
   "outputs": [
    {
     "name": "stdout",
     "output_type": "stream",
     "text": [
      "[Errno 2] No such file or directory: 'projects/election-date-project/archive'\n",
      "/Users/dp/projects/election-date-project\n"
     ]
    }
   ],
   "source": [
    "cd projects/election-date-project/archive"
   ]
  },
  {
   "cell_type": "code",
   "execution_count": 808,
   "metadata": {},
   "outputs": [],
   "source": [
    "import datetime\n",
    "import pandas as pd"
   ]
  },
  {
   "cell_type": "code",
   "execution_count": 809,
   "metadata": {},
   "outputs": [],
   "source": [
    "states = pd.read_csv('states.csv')\n",
    "set_state_name(states)\n",
    "states.loc[:, 'state_abbr'] = states.state_abbr.str.strip(' ')"
   ]
  },
  {
   "cell_type": "code",
   "execution_count": 810,
   "metadata": {},
   "outputs": [],
   "source": [
    "def set_date_col(df):\n",
    "    df.columns = ['state_name', 'date']\n",
    "    \n",
    "    clean_dates = df.date.str.extract('(\\s{0,1}\\d{1,2}\\/\\d{1,2}\\/\\d{4})(.*)', expand=True)\n",
    "    \n",
    "    df.loc[:, 'date'] = clean_dates.iloc[:, 0]\n",
    "    df.loc[:, 'date'] = pd.to_datetime(df.date, format='%m/%d/%Y')\n",
    "    \n",
    "    df.loc[:, 'etc'] = clean_dates.iloc[:, 1]\n",
    "    \n",
    "def set_election_type(df, estr):\n",
    "    df.loc[:, 'election_type'] = estr\n",
    "    \n",
    "def set_other_cols(df):\n",
    "    df.loc[:, 'party'] = ''\n",
    "    df.loc[:, 'govt_type'] = ''\n",
    "    df.loc[:, 'election_key'] = ''\n",
    "    \n",
    "def set_state_name(df):\n",
    "    df.loc[:, 'state_name'] = df.state_name.str.strip().str.lower()\n",
    "    df.loc[df.state_name == 'd.c.', 'state_name'] = 'district of columbia'\n",
    "    df.loc[df.state_name == 'n. mariana islands', 'state_name'] = 'northern mariana islands'"
   ]
  },
  {
   "cell_type": "code",
   "execution_count": 811,
   "metadata": {},
   "outputs": [
    {
     "name": "stderr",
     "output_type": "stream",
     "text": [
      "/opt/anaconda3/lib/python3.7/site-packages/pandas/core/arrays/datetimes.py:694: PerformanceWarning: Non-vectorized DateOffset being applied to Series or DatetimeIndex\n",
      "  PerformanceWarning,\n"
     ]
    },
    {
     "data": {
      "text/html": [
       "<div>\n",
       "<style scoped>\n",
       "    .dataframe tbody tr th:only-of-type {\n",
       "        vertical-align: middle;\n",
       "    }\n",
       "\n",
       "    .dataframe tbody tr th {\n",
       "        vertical-align: top;\n",
       "    }\n",
       "\n",
       "    .dataframe thead th {\n",
       "        text-align: right;\n",
       "    }\n",
       "</style>\n",
       "<table border=\"1\" class=\"dataframe\">\n",
       "  <thead>\n",
       "    <tr style=\"text-align: right;\">\n",
       "      <th></th>\n",
       "      <th>date</th>\n",
       "      <th>election_type</th>\n",
       "      <th>party</th>\n",
       "      <th>govt_type</th>\n",
       "      <th>election_key</th>\n",
       "    </tr>\n",
       "  </thead>\n",
       "  <tbody>\n",
       "    <tr>\n",
       "      <th>0</th>\n",
       "      <td>1982-11-02</td>\n",
       "      <td>g</td>\n",
       "      <td>np</td>\n",
       "      <td>congress</td>\n",
       "      <td></td>\n",
       "    </tr>\n",
       "    <tr>\n",
       "      <th>1</th>\n",
       "      <td>1984-11-06</td>\n",
       "      <td>g</td>\n",
       "      <td>np</td>\n",
       "      <td>congress</td>\n",
       "      <td></td>\n",
       "    </tr>\n",
       "    <tr>\n",
       "      <th>2</th>\n",
       "      <td>1986-11-04</td>\n",
       "      <td>g</td>\n",
       "      <td>np</td>\n",
       "      <td>congress</td>\n",
       "      <td></td>\n",
       "    </tr>\n",
       "    <tr>\n",
       "      <th>3</th>\n",
       "      <td>1988-11-01</td>\n",
       "      <td>g</td>\n",
       "      <td>np</td>\n",
       "      <td>congress</td>\n",
       "      <td></td>\n",
       "    </tr>\n",
       "    <tr>\n",
       "      <th>4</th>\n",
       "      <td>1990-11-06</td>\n",
       "      <td>g</td>\n",
       "      <td>np</td>\n",
       "      <td>congress</td>\n",
       "      <td></td>\n",
       "    </tr>\n",
       "  </tbody>\n",
       "</table>\n",
       "</div>"
      ],
      "text/plain": [
       "        date election_type party govt_type election_key\n",
       "0 1982-11-02             g    np  congress             \n",
       "1 1984-11-06             g    np  congress             \n",
       "2 1986-11-04             g    np  congress             \n",
       "3 1988-11-01             g    np  congress             \n",
       "4 1990-11-06             g    np  congress             "
      ]
     },
     "execution_count": 811,
     "metadata": {},
     "output_type": "execute_result"
    }
   ],
   "source": [
    "current_year = datetime.datetime.today().year - 1\n",
    "closest_year = current_year + (current_year % 2)\n",
    "\n",
    "year = datetime.date(closest_year, 1, 1)\n",
    "\n",
    "general_election_dates = (pd.date_range(end=year, periods=20, freq='2Y') \n",
    "                          + (11 * pd.offsets.MonthBegin()) \n",
    "                          + (1 * pd.offsets.WeekOfMonth(0, weekday=1)))\n",
    "\n",
    "gen = pd.DataFrame(general_election_dates, columns=['date'])\n",
    "\n",
    "set_election_type(gen, 'g')\n",
    "set_other_cols(gen)\n",
    "gen.loc[:, 'party'] = 'np'\n",
    "gen.loc[:, 'govt_type'] = 'congress'\n",
    "gen.head()"
   ]
  },
  {
   "cell_type": "code",
   "execution_count": 812,
   "metadata": {},
   "outputs": [
    {
     "name": "stderr",
     "output_type": "stream",
     "text": [
      "/opt/anaconda3/lib/python3.7/site-packages/pandas/core/arrays/datetimes.py:694: PerformanceWarning: Non-vectorized DateOffset being applied to Series or DatetimeIndex\n",
      "  PerformanceWarning,\n"
     ]
    }
   ],
   "source": [
    "closest_year = current_year + (current_year % 4)\n",
    "pres_election_dates = (pd.date_range(end=year, periods=10, freq='4Y') \n",
    "                          + (11 * pd.offsets.MonthBegin()) \n",
    "                          + (1 * pd.offsets.WeekOfMonth(0, weekday=1)))\n",
    "\n",
    "gen_pres = pd.DataFrame(pres_election_dates, columns=['date'])\n",
    "set_election_type(gen_pres, 'g')\n",
    "set_other_cols(gen_pres)\n",
    "gen_pres.loc[:, 'party'] = 'np'\n",
    "gen_pres.loc[:, 'govt_type'] = 'president'"
   ]
  },
  {
   "cell_type": "code",
   "execution_count": 813,
   "metadata": {},
   "outputs": [],
   "source": [
    "congressional_file = 'primary-dates/congressional-primary-dates.csv'\n",
    "presidential_file = 'primary-dates/presidential-primary-dates.csv'"
   ]
  },
  {
   "cell_type": "code",
   "execution_count": 814,
   "metadata": {},
   "outputs": [],
   "source": [
    "congr = pd.read_csv(congressional_file, skipinitialspace=True, na_values=['', ' '])\n",
    "pres = pd.read_csv(presidential_file, skipinitialspace=True, na_values=['', ' '])"
   ]
  },
  {
   "cell_type": "code",
   "execution_count": 815,
   "metadata": {},
   "outputs": [],
   "source": [
    "congr_primary = congr.iloc[:, [0,1]].dropna()\n",
    "congr_runoff = congr.iloc[:, [0,2]].dropna()\n",
    "pres_primary = pres.iloc[:, [0,1]].dropna()\n",
    "pres_cauc = pres.iloc[:, [0,2]].dropna()"
   ]
  },
  {
   "cell_type": "code",
   "execution_count": 816,
   "metadata": {},
   "outputs": [],
   "source": [
    "primary_tables = [congr_primary, congr_runoff, pres_primary, pres_cauc]\n",
    "election_strs = ['p', 'pr', 'pp', 'pc']\n",
    "\n",
    "for k, v in zip(primary_tables, election_strs):\n",
    "    set_date_col(k)\n",
    "    set_election_type(k, v)\n",
    "    set_other_cols(k)\n",
    "    set_state_name(k)"
   ]
  },
  {
   "cell_type": "code",
   "execution_count": 817,
   "metadata": {},
   "outputs": [
    {
     "data": {
      "text/html": [
       "<div>\n",
       "<style scoped>\n",
       "    .dataframe tbody tr th:only-of-type {\n",
       "        vertical-align: middle;\n",
       "    }\n",
       "\n",
       "    .dataframe tbody tr th {\n",
       "        vertical-align: top;\n",
       "    }\n",
       "\n",
       "    .dataframe thead th {\n",
       "        text-align: right;\n",
       "    }\n",
       "</style>\n",
       "<table border=\"1\" class=\"dataframe\">\n",
       "  <thead>\n",
       "    <tr style=\"text-align: right;\">\n",
       "      <th></th>\n",
       "      <th>state_name</th>\n",
       "      <th>date</th>\n",
       "      <th>election_type</th>\n",
       "      <th>party</th>\n",
       "      <th>govt_type</th>\n",
       "      <th>election_key</th>\n",
       "    </tr>\n",
       "  </thead>\n",
       "  <tbody>\n",
       "    <tr>\n",
       "      <th>0</th>\n",
       "      <td>puerto rico</td>\n",
       "      <td>2000-11-09</td>\n",
       "      <td>p</td>\n",
       "      <td>np</td>\n",
       "      <td>congress</td>\n",
       "      <td></td>\n",
       "    </tr>\n",
       "    <tr>\n",
       "      <th>1</th>\n",
       "      <td>california</td>\n",
       "      <td>2000-03-02</td>\n",
       "      <td>p</td>\n",
       "      <td>np</td>\n",
       "      <td>congress</td>\n",
       "      <td></td>\n",
       "    </tr>\n",
       "    <tr>\n",
       "      <th>2</th>\n",
       "      <td>maryland</td>\n",
       "      <td>2000-03-02</td>\n",
       "      <td>p</td>\n",
       "      <td>np</td>\n",
       "      <td>congress</td>\n",
       "      <td></td>\n",
       "    </tr>\n",
       "    <tr>\n",
       "      <th>3</th>\n",
       "      <td>ohio</td>\n",
       "      <td>2000-03-02</td>\n",
       "      <td>p</td>\n",
       "      <td>np</td>\n",
       "      <td>congress</td>\n",
       "      <td></td>\n",
       "    </tr>\n",
       "    <tr>\n",
       "      <th>4</th>\n",
       "      <td>mississippi</td>\n",
       "      <td>2000-03-09</td>\n",
       "      <td>p</td>\n",
       "      <td>np</td>\n",
       "      <td>congress</td>\n",
       "      <td></td>\n",
       "    </tr>\n",
       "  </tbody>\n",
       "</table>\n",
       "</div>"
      ],
      "text/plain": [
       "    state_name       date election_type party govt_type election_key\n",
       "0  puerto rico 2000-11-09             p    np  congress             \n",
       "1   california 2000-03-02             p    np  congress             \n",
       "2     maryland 2000-03-02             p    np  congress             \n",
       "3         ohio 2000-03-02             p    np  congress             \n",
       "4  mississippi 2000-03-09             p    np  congress             "
      ]
     },
     "execution_count": 817,
     "metadata": {},
     "output_type": "execute_result"
    }
   ],
   "source": [
    "# handling of congressional primaries\n",
    "congr_primary.loc[:, 'govt_type'] = congr_primary.etc.str.lower().str.extract('(house|senate)', expand=False).fillna('congress')\n",
    "congr_primary.loc[:, 'party'] = 'np'\n",
    "congr_primary = congr_primary.drop('etc', axis=1)\n",
    "congr_primary.head()"
   ]
  },
  {
   "cell_type": "code",
   "execution_count": 818,
   "metadata": {},
   "outputs": [
    {
     "data": {
      "text/html": [
       "<div>\n",
       "<style scoped>\n",
       "    .dataframe tbody tr th:only-of-type {\n",
       "        vertical-align: middle;\n",
       "    }\n",
       "\n",
       "    .dataframe tbody tr th {\n",
       "        vertical-align: top;\n",
       "    }\n",
       "\n",
       "    .dataframe thead th {\n",
       "        text-align: right;\n",
       "    }\n",
       "</style>\n",
       "<table border=\"1\" class=\"dataframe\">\n",
       "  <thead>\n",
       "    <tr style=\"text-align: right;\">\n",
       "      <th></th>\n",
       "      <th>state_name</th>\n",
       "      <th>date</th>\n",
       "      <th>election_type</th>\n",
       "      <th>party</th>\n",
       "      <th>govt_type</th>\n",
       "      <th>election_key</th>\n",
       "    </tr>\n",
       "  </thead>\n",
       "  <tbody>\n",
       "    <tr>\n",
       "      <th>4</th>\n",
       "      <td>mississippi</td>\n",
       "      <td>2000-03-30</td>\n",
       "      <td>pr</td>\n",
       "      <td>np</td>\n",
       "      <td>congress</td>\n",
       "      <td></td>\n",
       "    </tr>\n",
       "    <tr>\n",
       "      <th>5</th>\n",
       "      <td>texas</td>\n",
       "      <td>2000-04-13</td>\n",
       "      <td>pr</td>\n",
       "      <td>np</td>\n",
       "      <td>congress</td>\n",
       "      <td></td>\n",
       "    </tr>\n",
       "    <tr>\n",
       "      <th>11</th>\n",
       "      <td>arkansas</td>\n",
       "      <td>2000-06-08</td>\n",
       "      <td>pr</td>\n",
       "      <td>np</td>\n",
       "      <td>congress</td>\n",
       "      <td></td>\n",
       "    </tr>\n",
       "    <tr>\n",
       "      <th>15</th>\n",
       "      <td>alabama</td>\n",
       "      <td>2000-06-29</td>\n",
       "      <td>pr</td>\n",
       "      <td>np</td>\n",
       "      <td>congress</td>\n",
       "      <td></td>\n",
       "    </tr>\n",
       "    <tr>\n",
       "      <th>17</th>\n",
       "      <td>south dakota</td>\n",
       "      <td>2000-06-15</td>\n",
       "      <td>pr</td>\n",
       "      <td>np</td>\n",
       "      <td>congress</td>\n",
       "      <td></td>\n",
       "    </tr>\n",
       "  </tbody>\n",
       "</table>\n",
       "</div>"
      ],
      "text/plain": [
       "      state_name       date election_type party govt_type election_key\n",
       "4    mississippi 2000-03-30            pr    np  congress             \n",
       "5          texas 2000-04-13            pr    np  congress             \n",
       "11      arkansas 2000-06-08            pr    np  congress             \n",
       "15       alabama 2000-06-29            pr    np  congress             \n",
       "17  south dakota 2000-06-15            pr    np  congress             "
      ]
     },
     "execution_count": 818,
     "metadata": {},
     "output_type": "execute_result"
    }
   ],
   "source": [
    "# handling of congressional runoff\n",
    "congr_runoff.loc[:, 'govt_type'] = congr_runoff.etc.str.lower().str.extract('(house|senate)', expand=False).fillna('congress')\n",
    "congr_runoff.loc[:, 'party'] = 'np'\n",
    "congr_runoff = congr_runoff.drop('etc', axis=1)\n",
    "congr_runoff.head()"
   ]
  },
  {
   "cell_type": "code",
   "execution_count": 819,
   "metadata": {},
   "outputs": [
    {
     "data": {
      "text/html": [
       "<div>\n",
       "<style scoped>\n",
       "    .dataframe tbody tr th:only-of-type {\n",
       "        vertical-align: middle;\n",
       "    }\n",
       "\n",
       "    .dataframe tbody tr th {\n",
       "        vertical-align: top;\n",
       "    }\n",
       "\n",
       "    .dataframe thead th {\n",
       "        text-align: right;\n",
       "    }\n",
       "</style>\n",
       "<table border=\"1\" class=\"dataframe\">\n",
       "  <thead>\n",
       "    <tr style=\"text-align: right;\">\n",
       "      <th></th>\n",
       "      <th>state_name</th>\n",
       "      <th>date</th>\n",
       "      <th>election_type</th>\n",
       "      <th>party</th>\n",
       "      <th>govt_type</th>\n",
       "      <th>election_key</th>\n",
       "    </tr>\n",
       "  </thead>\n",
       "  <tbody>\n",
       "    <tr>\n",
       "      <th>0</th>\n",
       "      <td>alabama</td>\n",
       "      <td>2000-06-06</td>\n",
       "      <td>pp</td>\n",
       "      <td>np</td>\n",
       "      <td>president</td>\n",
       "      <td></td>\n",
       "    </tr>\n",
       "    <tr>\n",
       "      <th>5</th>\n",
       "      <td>arizona</td>\n",
       "      <td>2000-02-22</td>\n",
       "      <td>pp</td>\n",
       "      <td>np</td>\n",
       "      <td>president</td>\n",
       "      <td></td>\n",
       "    </tr>\n",
       "    <tr>\n",
       "      <th>6</th>\n",
       "      <td>arizona</td>\n",
       "      <td>2000-03-11</td>\n",
       "      <td>pp</td>\n",
       "      <td>democratic</td>\n",
       "      <td>president</td>\n",
       "      <td></td>\n",
       "    </tr>\n",
       "    <tr>\n",
       "      <th>7</th>\n",
       "      <td>arkansas</td>\n",
       "      <td>2000-05-23</td>\n",
       "      <td>pp</td>\n",
       "      <td>np</td>\n",
       "      <td>president</td>\n",
       "      <td></td>\n",
       "    </tr>\n",
       "    <tr>\n",
       "      <th>8</th>\n",
       "      <td>california</td>\n",
       "      <td>2000-03-07</td>\n",
       "      <td>pp</td>\n",
       "      <td>np</td>\n",
       "      <td>president</td>\n",
       "      <td></td>\n",
       "    </tr>\n",
       "  </tbody>\n",
       "</table>\n",
       "</div>"
      ],
      "text/plain": [
       "   state_name       date election_type       party  govt_type election_key\n",
       "0     alabama 2000-06-06            pp          np  president             \n",
       "5     arizona 2000-02-22            pp          np  president             \n",
       "6     arizona 2000-03-11            pp  democratic  president             \n",
       "7    arkansas 2000-05-23            pp          np  president             \n",
       "8  california 2000-03-07            pp          np  president             "
      ]
     },
     "execution_count": 819,
     "metadata": {},
     "output_type": "execute_result"
    }
   ],
   "source": [
    "# handling of presidential primaries\n",
    "pres_primary.loc[:, 'party'] = pres_primary.etc.str.lower().str.extract('(r|d)', expand=False).map({'d': 'democratic', \n",
    "                                                                                                    'r': 'republican'}).fillna('np')\n",
    "pres_primary.loc[:, 'govt_type'] = 'president'\n",
    "pres_primary = pres_primary.drop('etc', axis=1)\n",
    "pres_primary.head()"
   ]
  },
  {
   "cell_type": "code",
   "execution_count": 820,
   "metadata": {},
   "outputs": [
    {
     "data": {
      "text/html": [
       "<div>\n",
       "<style scoped>\n",
       "    .dataframe tbody tr th:only-of-type {\n",
       "        vertical-align: middle;\n",
       "    }\n",
       "\n",
       "    .dataframe tbody tr th {\n",
       "        vertical-align: top;\n",
       "    }\n",
       "\n",
       "    .dataframe thead th {\n",
       "        text-align: right;\n",
       "    }\n",
       "</style>\n",
       "<table border=\"1\" class=\"dataframe\">\n",
       "  <thead>\n",
       "    <tr style=\"text-align: right;\">\n",
       "      <th></th>\n",
       "      <th>state_name</th>\n",
       "      <th>date</th>\n",
       "      <th>election_type</th>\n",
       "      <th>party</th>\n",
       "      <th>govt_type</th>\n",
       "      <th>election_key</th>\n",
       "    </tr>\n",
       "  </thead>\n",
       "  <tbody>\n",
       "    <tr>\n",
       "      <th>1</th>\n",
       "      <td>alaska</td>\n",
       "      <td>2000-05-19</td>\n",
       "      <td>pcc</td>\n",
       "      <td>republican</td>\n",
       "      <td>president</td>\n",
       "      <td></td>\n",
       "    </tr>\n",
       "    <tr>\n",
       "      <th>2</th>\n",
       "      <td>alaska</td>\n",
       "      <td>2000-05-20</td>\n",
       "      <td>pcc</td>\n",
       "      <td>democratic</td>\n",
       "      <td>president</td>\n",
       "      <td></td>\n",
       "    </tr>\n",
       "    <tr>\n",
       "      <th>3</th>\n",
       "      <td>american samoa</td>\n",
       "      <td>2000-02-26</td>\n",
       "      <td>pc</td>\n",
       "      <td>np</td>\n",
       "      <td>president</td>\n",
       "      <td></td>\n",
       "    </tr>\n",
       "    <tr>\n",
       "      <th>4</th>\n",
       "      <td>american samoa</td>\n",
       "      <td>2000-03-07</td>\n",
       "      <td>pc</td>\n",
       "      <td>np</td>\n",
       "      <td>president</td>\n",
       "      <td></td>\n",
       "    </tr>\n",
       "    <tr>\n",
       "      <th>16</th>\n",
       "      <td>guam</td>\n",
       "      <td>2000-02-26</td>\n",
       "      <td>pc</td>\n",
       "      <td>np</td>\n",
       "      <td>president</td>\n",
       "      <td></td>\n",
       "    </tr>\n",
       "  </tbody>\n",
       "</table>\n",
       "</div>"
      ],
      "text/plain": [
       "        state_name       date election_type       party  govt_type  \\\n",
       "1           alaska 2000-05-19           pcc  republican  president   \n",
       "2           alaska 2000-05-20           pcc  democratic  president   \n",
       "3   american samoa 2000-02-26            pc          np  president   \n",
       "4   american samoa 2000-03-07            pc          np  president   \n",
       "16            guam 2000-02-26            pc          np  president   \n",
       "\n",
       "   election_key  \n",
       "1                \n",
       "2                \n",
       "3                \n",
       "4                \n",
       "16               "
      ]
     },
     "execution_count": 820,
     "metadata": {},
     "output_type": "execute_result"
    }
   ],
   "source": [
    "# handling of presidential caucuses \n",
    "cauc_party = pres_cauc.etc.str.lower().str.extract('(r|d)(.+)(c)')\n",
    "pres_cauc.loc[:, 'party'] = cauc_party.iloc[:, 0].map({'d': 'democratic', 'r': 'republican'}).fillna('np')\n",
    "pres_cauc.loc[:, 'election_type'] = pres_cauc.election_type + cauc_party.iloc[:, 2].fillna('')\n",
    "pres_cauc.loc[:, 'govt_type'] = 'president'\n",
    "pres_cauc = pres_cauc.drop('etc', axis=1)\n",
    "pres_cauc.head()"
   ]
  },
  {
   "cell_type": "code",
   "execution_count": 821,
   "metadata": {},
   "outputs": [],
   "source": [
    "dfs = []\n",
    "for r in gen.iterrows():\n",
    "    row = r[1]\n",
    "    df = states.copy()\n",
    "    df.loc[:, 'date'] = row.date\n",
    "    df.loc[:, 'party'] = row.party\n",
    "    df.loc[:, 'election_type'] = row.election_type\n",
    "    df.loc[:, 'govt_type'] = 'congress'\n",
    "    df.loc[:, 'election_key'] = ''\n",
    "    dfs.append(df)\n",
    " \n",
    "gen = pd.concat(dfs)"
   ]
  },
  {
   "cell_type": "code",
   "execution_count": 822,
   "metadata": {},
   "outputs": [],
   "source": [
    "dfs = []\n",
    "for r in gen_pres.iterrows():\n",
    "    row = r[1]\n",
    "    df = states.copy()\n",
    "    df.loc[:, 'date'] = row.date\n",
    "    df.loc[:, 'party'] = row.party\n",
    "    df.loc[:, 'election_type'] = row.election_type\n",
    "    df.loc[:, 'govt_type'] = row.govt_type\n",
    "    df.loc[:, 'election_key'] = ''\n",
    "    dfs.append(df)\n",
    "    \n",
    "gen_pres = pd.concat(dfs)"
   ]
  },
  {
   "cell_type": "code",
   "execution_count": 823,
   "metadata": {},
   "outputs": [],
   "source": [
    "gen = pd.concat([gen, gen_pres], ignore_index=True)"
   ]
  },
  {
   "cell_type": "code",
   "execution_count": 824,
   "metadata": {},
   "outputs": [],
   "source": [
    "dfs = []\n",
    "for df in primary_tables:\n",
    "    df_join = df.join(states.set_index('state_name'), on='state_name', how='left')\n",
    "    dfs.append(df_join)"
   ]
  },
  {
   "cell_type": "code",
   "execution_count": 825,
   "metadata": {},
   "outputs": [],
   "source": [
    "prim = pd.concat(dfs).drop('etc', axis=1)"
   ]
  },
  {
   "cell_type": "code",
   "execution_count": 826,
   "metadata": {},
   "outputs": [],
   "source": [
    "import yaml\n",
    "with open('metadata.yaml') as f:\n",
    "    metadata = yaml.load(f, Loader=yaml.FullLoader)"
   ]
  },
  {
   "cell_type": "code",
   "execution_count": 827,
   "metadata": {},
   "outputs": [],
   "source": [
    "elections = pd.concat([prim, gen])"
   ]
  },
  {
   "cell_type": "code",
   "execution_count": 828,
   "metadata": {},
   "outputs": [],
   "source": [
    "elections.loc[:, 'election_key'] = elections.date.dt.strftime('%Y-%m-%d-') + elections.election_type + '-' + elections.state_abbr"
   ]
  },
  {
   "cell_type": "code",
   "execution_count": 829,
   "metadata": {},
   "outputs": [],
   "source": [
    "elections.to_csv('elections.csv', index=False)"
   ]
  },
  {
   "cell_type": "code",
   "execution_count": 835,
   "metadata": {},
   "outputs": [],
   "source": [
    "elections.loc[elections.election_type.isin(['p', 'pp', 'pc', 'pr', 'pcc']), :].to_csv('primary-dates/primaries.csv')"
   ]
  },
  {
   "cell_type": "code",
   "execution_count": 838,
   "metadata": {},
   "outputs": [],
   "source": [
    "elections.loc[~elections.election_type.isin(['p', 'pp', 'pc', 'pr', 'pcc']), :\n",
    "             ].to_csv('general-dates/general.csv', index=False)"
   ]
  },
  {
   "cell_type": "code",
   "execution_count": null,
   "metadata": {},
   "outputs": [],
   "source": []
  }
 ],
 "metadata": {
  "kernelspec": {
   "display_name": "Python 3",
   "language": "python",
   "name": "python3"
  },
  "language_info": {
   "codemirror_mode": {
    "name": "ipython",
    "version": 3
   },
   "file_extension": ".py",
   "mimetype": "text/x-python",
   "name": "python",
   "nbconvert_exporter": "python",
   "pygments_lexer": "ipython3",
   "version": "3.7.4"
  }
 },
 "nbformat": 4,
 "nbformat_minor": 4
}
